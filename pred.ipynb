{
 "cells": [
  {
   "cell_type": "code",
   "execution_count": 1,
   "metadata": {},
   "outputs": [
    {
     "name": "stdout",
     "output_type": "stream",
     "text": [
      "사용 중인 디바이스: cpu\n"
     ]
    }
   ],
   "source": [
    "import torch\n",
    "from models import GKT\n",
    "from processing import load_dataset, pad_collate\n",
    "from utils import build_dense_graph\n",
    "\n",
    "# GPU 사용 여부\n",
    "device = torch.device(\"cpu\")\n",
    "print(\"사용 중인 디바이스:\", device)\n"
   ]
  },
  {
   "cell_type": "code",
   "execution_count": 2,
   "metadata": {},
   "outputs": [],
   "source": [
    "# 그래프 및 데이터셋 초기화\n",
    "concept_num = 1815  # 문제(개념) 개수\n",
    "hidden_dim = 32\n",
    "embedding_dim = 32\n",
    "edge_type_num = 2\n",
    "graph_type = \"Dense\"\n",
    "\n",
    "# Dense 그래프 생성\n",
    "graph = build_dense_graph(concept_num).to(device)\n",
    "\n",
    "# 모델 가중치 로드\n",
    "model_path = \"logs\\expGKT-Dense2024-12-20 11-14-06\\GKT-Dense.pt\"  # 사전 학습된 모델 경로"
   ]
  },
  {
   "cell_type": "code",
   "execution_count": 11,
   "metadata": {},
   "outputs": [
    {
     "name": "stdout",
     "output_type": "stream",
     "text": [
      "                                        UserID         mCode  No  QuizCode  \\\n",
      "19751544  1a851549-0ce5-43da-b73c-ffff1117f116  T1ME12U03011   6  30161292   \n",
      "19751545  1a851549-0ce5-43da-b73c-ffff1117f116  T1ME12U03011   7  30161293   \n",
      "19751546  1a851549-0ce5-43da-b73c-ffff1117f116  T1ME12U03011   8  30161294   \n",
      "19751547  1a851549-0ce5-43da-b73c-ffff1117f116  T1ME12U03011   9  30161295   \n",
      "17897686  1a851549-0ce5-43da-b73c-ffff1117f116  T1ME12U03016   1  30161254   \n",
      "17897687  1a851549-0ce5-43da-b73c-ffff1117f116  T1ME12U03016   2  30161253   \n",
      "17897688  1a851549-0ce5-43da-b73c-ffff1117f116  T1ME12U03016   3  30161252   \n",
      "19751548  1a851549-0ce5-43da-b73c-ffff1117f116  T1ME12U03016   1  30161254   \n",
      "19751549  1a851549-0ce5-43da-b73c-ffff1117f116  T1ME12U03016   2  30161253   \n",
      "19751550  1a851549-0ce5-43da-b73c-ffff1117f116  T1ME12U03016   3  30161252   \n",
      "\n",
      "                     Answer  Correct                  CreDate  LM_IDX  skill  \\\n",
      "19751544                 10        1  2024-09-26 19:04:00.000     NaN    456   \n",
      "19751545                  1        1  2024-09-26 19:04:00.000     NaN    457   \n",
      "19751546        11/^ROW^/30        1  2024-09-26 19:04:00.000     NaN    458   \n",
      "19751547         5/^ROW^/30        1  2024-09-26 19:04:00.000     NaN    459   \n",
      "17897686                  5        0  2024-09-28 19:29:00.000     NaN    444   \n",
      "17897687  5/^ROW^/1/^ROW^/6        1  2024-09-28 19:29:00.000     NaN    443   \n",
      "17897688                  3        1  2024-09-28 19:29:00.000     NaN    442   \n",
      "19751548                  5        0  2024-09-28 19:29:00.000     NaN    444   \n",
      "19751549  5/^ROW^/1/^ROW^/6        1  2024-09-28 19:29:00.000     NaN    443   \n",
      "19751550                  3        1  2024-09-28 19:29:00.000     NaN    442   \n",
      "\n",
      "          skill_with_answer  \n",
      "19751544                913  \n",
      "19751545                915  \n",
      "19751546                917  \n",
      "19751547                919  \n",
      "17897686                888  \n",
      "17897687                887  \n",
      "17897688                885  \n",
      "19751548                888  \n",
      "19751549                887  \n",
      "19751550                885  \n"
     ]
    },
    {
     "name": "stderr",
     "output_type": "stream",
     "text": [
      "C:\\Users\\user\\AppData\\Local\\Temp\\ipykernel_4536\\809071246.py:12: SettingWithCopyWarning: \n",
      "A value is trying to be set on a copy of a slice from a DataFrame\n",
      "\n",
      "See the caveats in the documentation: https://pandas.pydata.org/pandas-docs/stable/user_guide/indexing.html#returning-a-view-versus-a-copy\n",
      "  user_data.sort_values(by=[\"UserID\", \"CreDate\"], inplace=True)  # \"CreDate\" 컬럼을 기준으로 정렬\n",
      "C:\\Users\\user\\AppData\\Local\\Temp\\ipykernel_4536\\809071246.py:15: SettingWithCopyWarning: \n",
      "A value is trying to be set on a copy of a slice from a DataFrame.\n",
      "Try using .loc[row_indexer,col_indexer] = value instead\n",
      "\n",
      "See the caveats in the documentation: https://pandas.pydata.org/pandas-docs/stable/user_guide/indexing.html#returning-a-view-versus-a-copy\n",
      "  user_data['skill'], _ = pd.factorize(user_data['QuizCode'], sort=True)  # we can also use problem_id to represent exercises\n",
      "C:\\Users\\user\\AppData\\Local\\Temp\\ipykernel_4536\\809071246.py:18: SettingWithCopyWarning: \n",
      "A value is trying to be set on a copy of a slice from a DataFrame.\n",
      "Try using .loc[row_indexer,col_indexer] = value instead\n",
      "\n",
      "See the caveats in the documentation: https://pandas.pydata.org/pandas-docs/stable/user_guide/indexing.html#returning-a-view-versus-a-copy\n",
      "  user_data['Correct'] = user_data['Correct'].map({'O': 1, 'X': 0})\n",
      "C:\\Users\\user\\AppData\\Local\\Temp\\ipykernel_4536\\809071246.py:22: SettingWithCopyWarning: \n",
      "A value is trying to be set on a copy of a slice from a DataFrame.\n",
      "Try using .loc[row_indexer,col_indexer] = value instead\n",
      "\n",
      "See the caveats in the documentation: https://pandas.pydata.org/pandas-docs/stable/user_guide/indexing.html#returning-a-view-versus-a-copy\n",
      "  user_data['skill_with_answer'] = user_data['skill'] * 2 + user_data['Correct']\n"
     ]
    }
   ],
   "source": [
    "import pandas as pd\n",
    "\n",
    "# 특정 UserID를 위한 데이터 로드\n",
    "file_path = \"data\\\\filtered_combined_user_data.csv\"  # 데이터 파일 경로\n",
    "user_id = \"1a851549-0ce5-43da-b73c-ffff1117f116\"  # 예측할 UserID\n",
    "\n",
    "# 데이터프레임에서 유저 데이터 로드\n",
    "df = pd.read_csv(file_path)\n",
    "user_data = df[df['UserID'] == user_id]\n",
    "\n",
    "# Step 0 - 정렬: 가장 오래된 기록부터 정렬\n",
    "user_data.sort_values(by=[\"UserID\", \"CreDate\"], inplace=True)  # \"CreDate\" 컬럼을 기준으로 정렬\n",
    "\n",
    "# Step 2 - Enumerate skill id\n",
    "user_data['skill'], _ = pd.factorize(user_data['QuizCode'], sort=True)  # we can also use problem_id to represent exercises\n",
    "\n",
    "# correct 생성 (O -> 1, X -> 0)\n",
    "user_data['Correct'] = user_data['Correct'].map({'O': 1, 'X': 0})\n",
    "\n",
    "# Step 3 - Cross skill id with answer to form a synthetic feature\n",
    "# use_binary: (0,1); !use_binary: (1,2,3,4,5,6,7,8,9,10,11,12). Either way, the correct result index is guaranteed to be 1\n",
    "user_data['skill_with_answer'] = user_data['skill'] * 2 + user_data['Correct']\n",
    "\n",
    "print(user_data.tail(10))\n",
    "\n",
    "user_data = user_data.iloc[:-10]\n",
    "\n",
    "# 유저 풀이 시퀀스 및 다음 문제 정의\n",
    "features = user_data['skill_with_answer'].tolist()\n",
    "questions = user_data['skill'].tolist()\n"
   ]
  },
  {
   "cell_type": "code",
   "execution_count": 12,
   "metadata": {},
   "outputs": [],
   "source": [
    "next_skills = [456, 457, 458, 459, 444, 443, 442, 444, 443, 442]  # 다음에 풀 문제들"
   ]
  },
  {
   "cell_type": "code",
   "execution_count": null,
   "metadata": {},
   "outputs": [
    {
     "name": "stdout",
     "output_type": "stream",
     "text": [
      "사용 중인 디바이스: cpu\n"
     ]
    },
    {
     "name": "stderr",
     "output_type": "stream",
     "text": [
      "C:\\Users\\user\\AppData\\Local\\Temp\\ipykernel_4536\\2638515844.py:17: FutureWarning: You are using `torch.load` with `weights_only=False` (the current default value), which uses the default pickle module implicitly. It is possible to construct malicious pickle data which will execute arbitrary code during unpickling (See https://github.com/pytorch/pytorch/blob/main/SECURITY.md#untrusted-models for more details). In a future release, the default value for `weights_only` will be flipped to `True`. This limits the functions that could be executed during unpickling. Arbitrary objects will no longer be allowed to be loaded via this mode unless they are explicitly allowlisted by the user via `torch.serialization.add_safe_globals`. We recommend you start setting `weights_only=True` for any use case where you don't have full control of the loaded file. Please open an issue on GitHub for any issues related to this experimental feature.\n",
      "  model.load_state_dict(torch.load(model_path, map_location=device))\n"
     ]
    },
    {
     "name": "stdout",
     "output_type": "stream",
     "text": [
      "다음에 풀 10문제의 예측값 및 정오표:\n"
     ]
    },
    {
     "ename": "KeyError",
     "evalue": "0",
     "output_type": "error",
     "traceback": [
      "\u001b[1;31m---------------------------------------------------------------------------\u001b[0m",
      "\u001b[1;31mKeyError\u001b[0m                                  Traceback (most recent call last)",
      "File \u001b[1;32mc:\\Users\\user\\anaconda3\\envs\\gkt\\lib\\site-packages\\pandas\\core\\indexes\\base.py:3653\u001b[0m, in \u001b[0;36mIndex.get_loc\u001b[1;34m(self, key)\u001b[0m\n\u001b[0;32m   3652\u001b[0m \u001b[38;5;28;01mtry\u001b[39;00m:\n\u001b[1;32m-> 3653\u001b[0m     \u001b[38;5;28;01mreturn\u001b[39;00m \u001b[38;5;28;43mself\u001b[39;49m\u001b[38;5;241;43m.\u001b[39;49m\u001b[43m_engine\u001b[49m\u001b[38;5;241;43m.\u001b[39;49m\u001b[43mget_loc\u001b[49m\u001b[43m(\u001b[49m\u001b[43mcasted_key\u001b[49m\u001b[43m)\u001b[49m\n\u001b[0;32m   3654\u001b[0m \u001b[38;5;28;01mexcept\u001b[39;00m \u001b[38;5;167;01mKeyError\u001b[39;00m \u001b[38;5;28;01mas\u001b[39;00m err:\n",
      "File \u001b[1;32mc:\\Users\\user\\anaconda3\\envs\\gkt\\lib\\site-packages\\pandas\\_libs\\index.pyx:147\u001b[0m, in \u001b[0;36mpandas._libs.index.IndexEngine.get_loc\u001b[1;34m()\u001b[0m\n",
      "File \u001b[1;32mc:\\Users\\user\\anaconda3\\envs\\gkt\\lib\\site-packages\\pandas\\_libs\\index.pyx:176\u001b[0m, in \u001b[0;36mpandas._libs.index.IndexEngine.get_loc\u001b[1;34m()\u001b[0m\n",
      "File \u001b[1;32mpandas\\_libs\\hashtable_class_helper.pxi:2606\u001b[0m, in \u001b[0;36mpandas._libs.hashtable.Int64HashTable.get_item\u001b[1;34m()\u001b[0m\n",
      "File \u001b[1;32mpandas\\_libs\\hashtable_class_helper.pxi:2630\u001b[0m, in \u001b[0;36mpandas._libs.hashtable.Int64HashTable.get_item\u001b[1;34m()\u001b[0m\n",
      "\u001b[1;31mKeyError\u001b[0m: 0",
      "\nThe above exception was the direct cause of the following exception:\n",
      "\u001b[1;31mKeyError\u001b[0m                                  Traceback (most recent call last)",
      "Cell \u001b[1;32mIn[22], line 31\u001b[0m\n\u001b[0;32m     29\u001b[0m \u001b[38;5;28;01mfor\u001b[39;00m i, pred \u001b[38;5;129;01min\u001b[39;00m \u001b[38;5;28menumerate\u001b[39m(next_preds\u001b[38;5;241m.\u001b[39mtolist()):\n\u001b[0;32m     30\u001b[0m     result \u001b[38;5;241m=\u001b[39m \u001b[38;5;124m\"\u001b[39m\u001b[38;5;124m1\u001b[39m\u001b[38;5;124m\"\u001b[39m \u001b[38;5;28;01mif\u001b[39;00m pred \u001b[38;5;241m>\u001b[39m\u001b[38;5;241m=\u001b[39m threshold \u001b[38;5;28;01melse\u001b[39;00m \u001b[38;5;124m\"\u001b[39m\u001b[38;5;124m0\u001b[39m\u001b[38;5;124m\"\u001b[39m\n\u001b[1;32m---> 31\u001b[0m     \u001b[38;5;28mprint\u001b[39m(\u001b[38;5;124mf\u001b[39m\u001b[38;5;124m\"\u001b[39m\u001b[38;5;124m문제 \u001b[39m\u001b[38;5;132;01m{\u001b[39;00mnext_skills[i]\u001b[38;5;132;01m}\u001b[39;00m\u001b[38;5;124m: 정답 확률 = \u001b[39m\u001b[38;5;132;01m{\u001b[39;00mpred\u001b[38;5;132;01m:\u001b[39;00m\u001b[38;5;124m.4f\u001b[39m\u001b[38;5;132;01m}\u001b[39;00m\u001b[38;5;124m (\u001b[39m\u001b[38;5;132;01m{\u001b[39;00mresult\u001b[38;5;132;01m}\u001b[39;00m\u001b[38;5;124m) 원래 정답 : \u001b[39m\u001b[38;5;132;01m{\u001b[39;00muser_data[\u001b[38;5;124m'\u001b[39m\u001b[38;5;124mCorrect\u001b[39m\u001b[38;5;124m'\u001b[39m][i]\u001b[38;5;132;01m}\u001b[39;00m\u001b[38;5;124m\"\u001b[39m)\n",
      "File \u001b[1;32mc:\\Users\\user\\anaconda3\\envs\\gkt\\lib\\site-packages\\pandas\\core\\series.py:1007\u001b[0m, in \u001b[0;36mSeries.__getitem__\u001b[1;34m(self, key)\u001b[0m\n\u001b[0;32m   1004\u001b[0m     \u001b[38;5;28;01mreturn\u001b[39;00m \u001b[38;5;28mself\u001b[39m\u001b[38;5;241m.\u001b[39m_values[key]\n\u001b[0;32m   1006\u001b[0m \u001b[38;5;28;01melif\u001b[39;00m key_is_scalar:\n\u001b[1;32m-> 1007\u001b[0m     \u001b[38;5;28;01mreturn\u001b[39;00m \u001b[38;5;28;43mself\u001b[39;49m\u001b[38;5;241;43m.\u001b[39;49m\u001b[43m_get_value\u001b[49m\u001b[43m(\u001b[49m\u001b[43mkey\u001b[49m\u001b[43m)\u001b[49m\n\u001b[0;32m   1009\u001b[0m \u001b[38;5;28;01mif\u001b[39;00m is_hashable(key):\n\u001b[0;32m   1010\u001b[0m     \u001b[38;5;66;03m# Otherwise index.get_value will raise InvalidIndexError\u001b[39;00m\n\u001b[0;32m   1011\u001b[0m     \u001b[38;5;28;01mtry\u001b[39;00m:\n\u001b[0;32m   1012\u001b[0m         \u001b[38;5;66;03m# For labels that don't resolve as scalars like tuples and frozensets\u001b[39;00m\n",
      "File \u001b[1;32mc:\\Users\\user\\anaconda3\\envs\\gkt\\lib\\site-packages\\pandas\\core\\series.py:1116\u001b[0m, in \u001b[0;36mSeries._get_value\u001b[1;34m(self, label, takeable)\u001b[0m\n\u001b[0;32m   1113\u001b[0m     \u001b[38;5;28;01mreturn\u001b[39;00m \u001b[38;5;28mself\u001b[39m\u001b[38;5;241m.\u001b[39m_values[label]\n\u001b[0;32m   1115\u001b[0m \u001b[38;5;66;03m# Similar to Index.get_value, but we do not fall back to positional\u001b[39;00m\n\u001b[1;32m-> 1116\u001b[0m loc \u001b[38;5;241m=\u001b[39m \u001b[38;5;28;43mself\u001b[39;49m\u001b[38;5;241;43m.\u001b[39;49m\u001b[43mindex\u001b[49m\u001b[38;5;241;43m.\u001b[39;49m\u001b[43mget_loc\u001b[49m\u001b[43m(\u001b[49m\u001b[43mlabel\u001b[49m\u001b[43m)\u001b[49m\n\u001b[0;32m   1118\u001b[0m \u001b[38;5;28;01mif\u001b[39;00m is_integer(loc):\n\u001b[0;32m   1119\u001b[0m     \u001b[38;5;28;01mreturn\u001b[39;00m \u001b[38;5;28mself\u001b[39m\u001b[38;5;241m.\u001b[39m_values[loc]\n",
      "File \u001b[1;32mc:\\Users\\user\\anaconda3\\envs\\gkt\\lib\\site-packages\\pandas\\core\\indexes\\base.py:3655\u001b[0m, in \u001b[0;36mIndex.get_loc\u001b[1;34m(self, key)\u001b[0m\n\u001b[0;32m   3653\u001b[0m     \u001b[38;5;28;01mreturn\u001b[39;00m \u001b[38;5;28mself\u001b[39m\u001b[38;5;241m.\u001b[39m_engine\u001b[38;5;241m.\u001b[39mget_loc(casted_key)\n\u001b[0;32m   3654\u001b[0m \u001b[38;5;28;01mexcept\u001b[39;00m \u001b[38;5;167;01mKeyError\u001b[39;00m \u001b[38;5;28;01mas\u001b[39;00m err:\n\u001b[1;32m-> 3655\u001b[0m     \u001b[38;5;28;01mraise\u001b[39;00m \u001b[38;5;167;01mKeyError\u001b[39;00m(key) \u001b[38;5;28;01mfrom\u001b[39;00m \u001b[38;5;21;01merr\u001b[39;00m\n\u001b[0;32m   3656\u001b[0m \u001b[38;5;28;01mexcept\u001b[39;00m \u001b[38;5;167;01mTypeError\u001b[39;00m:\n\u001b[0;32m   3657\u001b[0m     \u001b[38;5;66;03m# If we have a listlike key, _check_indexing_error will raise\u001b[39;00m\n\u001b[0;32m   3658\u001b[0m     \u001b[38;5;66;03m#  InvalidIndexError. Otherwise we fall through and re-raise\u001b[39;00m\n\u001b[0;32m   3659\u001b[0m     \u001b[38;5;66;03m#  the TypeError.\u001b[39;00m\n\u001b[0;32m   3660\u001b[0m     \u001b[38;5;28mself\u001b[39m\u001b[38;5;241m.\u001b[39m_check_indexing_error(key)\n",
      "\u001b[1;31mKeyError\u001b[0m: 0"
     ]
    }
   ],
   "source": [
    "# 디바이스 설정 (GPU 또는 CPU)\n",
    "device = torch.device(\"cpu\")\n",
    "print(\"사용 중인 디바이스:\", device)\n",
    "\n",
    "# 모델 초기화\n",
    "model = GKT(concept_num, hidden_dim, embedding_dim, edge_type_num, graph_type, graph=graph).to(device)\n",
    "\n",
    "# 데이터 텐서로 변환 및 디바이스 이동\n",
    "features_tensor = torch.tensor(features, dtype=torch.long).unsqueeze(0).to(device)\n",
    "questions_tensor = torch.tensor(questions, dtype=torch.long).unsqueeze(0).to(device)\n",
    "next_skills_tensor = torch.tensor(next_skills, dtype=torch.long).to(device)\n",
    "\n",
    "# Dense 그래프도 동일한 디바이스로 이동\n",
    "graph = graph.to(device)\n",
    "\n",
    "# 모델 가중치 로드\n",
    "model.load_state_dict(torch.load(model_path, map_location=device))\n",
    "model.eval()\n",
    "\n",
    "# 모델 예측 수행\n",
    "with torch.no_grad():\n",
    "    pred_res, _, _, _ = model(features_tensor, questions_tensor)  # 입력값과 동일한 디바이스에서 수행\n",
    "    next_preds = pred_res.squeeze(0)[-len(next_skills):]  # 다음 문제에 해당하는 예측값\n",
    "\n",
    "threshold = 0.8318\n",
    "\n",
    "# 결과 출력\n",
    "print(\"다음에 풀 10문제의 예측값 및 정오표:\")\n",
    "for i, pred in enumerate(next_preds.tolist()):\n",
    "    result = \"1\" if pred >= threshold else \"0\"\n",
    "    print(f\"문제 {next_skills[i]}: 정답 확률 = {pred:.4f} ({result}) 원래 정답 : {user_data['Correct']}\")"
   ]
  }
 ],
 "metadata": {
  "kernelspec": {
   "display_name": "gkt",
   "language": "python",
   "name": "python3"
  },
  "language_info": {
   "codemirror_mode": {
    "name": "ipython",
    "version": 3
   },
   "file_extension": ".py",
   "mimetype": "text/x-python",
   "name": "python",
   "nbconvert_exporter": "python",
   "pygments_lexer": "ipython3",
   "version": "3.8.20"
  }
 },
 "nbformat": 4,
 "nbformat_minor": 2
}
