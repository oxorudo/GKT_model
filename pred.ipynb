{
 "cells": [
  {
   "cell_type": "code",
   "execution_count": null,
   "metadata": {},
   "outputs": [],
   "source": [
    "import torch\n",
    "import torch.nn as nn\n",
    "import numpy as np\n",
    "from models import GKT\n",
    "\n",
    "\n"
   ]
  },
  {
   "cell_type": "code",
   "execution_count": null,
   "metadata": {},
   "outputs": [],
   "source": [
    "# 하이퍼파라미터 및 모델 초기화\n",
    "concept_num = 50     # 문항 개수 (문제 수)\n",
    "hidden_dim = 128     # 은닉 상태 크기\n",
    "embedding_dim = 64   # 임베딩 차원\n",
    "edge_type_num = 2    # 그래프 엣지 타입 개수\n",
    "graph_type = 'Dense' # 그래프 타입 (Dense, Transition 등)\n",
    "dropout = 0.5\n",
    "device = torch.device(\"cuda\" if torch.cuda.is_available() else \"cpu\")\n"
   ]
  },
  {
   "cell_type": "code",
   "execution_count": null,
   "metadata": {},
   "outputs": [],
   "source": [
    "# 모델 초기화\n",
    "model = GKT(concept_num=concept_num, hidden_dim=hidden_dim, embedding_dim=embedding_dim,\n",
    "            edge_type_num=edge_type_num, graph_type=graph_type, has_cuda=torch.cuda.is_available())"
   ]
  },
  {
   "cell_type": "code",
   "execution_count": null,
   "metadata": {},
   "outputs": [],
   "source": [
    "# 모델 가중치 로드 (.pt 파일)\n",
    "model_path = \"./logs/expGKT-MHA2024-12-17 11-38-53/GKT_MHA.pt\"  # 저장된 모델 파일 경로\n",
    "state_dict = torch.load(model_path, map_location=device)\n",
    "model.load_state_dict(state_dict)  # 가중치 적용\n",
    "model.to(device)\n",
    "model.eval()  # 평가 모드 설정"
   ]
  },
  {
   "cell_type": "code",
   "execution_count": null,
   "metadata": {},
   "outputs": [],
   "source": [
    "# 예제 입력 데이터\n",
    "batch_size = 2\n",
    "seq_len = 10\n",
    "features = torch.randint(0, 2, (batch_size, seq_len)).to(device)  # [batch_size, seq_len], 입력 특성\n",
    "questions = torch.randint(0, concept_num, (batch_size, seq_len)).to(device)  # [batch_size, seq_len], 문제 인덱스\n"
   ]
  },
  {
   "cell_type": "code",
   "execution_count": null,
   "metadata": {},
   "outputs": [],
   "source": [
    "# 예측값 계산\n",
    "with torch.no_grad():\n",
    "    pred_res, _, _, _ = model(features, questions)  # 예측값 반환"
   ]
  }
 ],
 "metadata": {
  "kernelspec": {
   "display_name": "gkt",
   "language": "python",
   "name": "python3"
  },
  "language_info": {
   "name": "python",
   "version": "3.8.20"
  }
 },
 "nbformat": 4,
 "nbformat_minor": 2
}
